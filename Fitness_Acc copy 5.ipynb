{
 "cells": [
  {
   "cell_type": "code",
   "execution_count": 101,
   "metadata": {},
   "outputs": [],
   "source": [
    "import snntorch as snn\n",
    "from snntorch import spikeplot as splt\n",
    "from snntorch import spikegen\n",
    "\n",
    "import torch\n",
    "import torch.nn as nn\n",
    "from torch.utils.data import DataLoader\n",
    "from torchvision import datasets, transforms\n",
    "\n",
    "import matplotlib.pyplot as plt\n",
    "import numpy as np\n",
    "import itertools\n",
    "\n",
    "import random"
   ]
  },
  {
   "cell_type": "code",
   "execution_count": 102,
   "metadata": {},
   "outputs": [
    {
     "name": "stdout",
     "output_type": "stream",
     "text": [
      "cuda\n"
     ]
    }
   ],
   "source": [
    "batch_size = 8192\n",
    "data_path='/data/mnist'\n",
    "\n",
    "dtype = torch.float\n",
    "device = torch.device(\"cuda\") if torch.cuda.is_available() else torch.device(\"cpu\")\n",
    "print(device)\n",
    "\n",
    "# Transform\n",
    "transform = transforms.Compose([\n",
    "            transforms.Resize((28, 28)),\n",
    "            transforms.Grayscale(),\n",
    "            transforms.ToTensor(),\n",
    "            transforms.Normalize((0,), (1,))])\n",
    "\n",
    "mnist_train = datasets.MNIST(data_path, train=True, download=True, transform=transform)\n",
    "mnist_test = datasets.MNIST(data_path, train=False, download=True, transform=transform)\n",
    "\n",
    "# DataLoaders\n",
    "train_loader = DataLoader(mnist_train, batch_size=batch_size, shuffle=True, drop_last=True)\n",
    "test_loader = DataLoader(mnist_test, batch_size=batch_size, shuffle=True, drop_last=True)"
   ]
  },
  {
   "cell_type": "code",
   "execution_count": 103,
   "metadata": {},
   "outputs": [],
   "source": [
    "# Network Architecture\n",
    "num_inputs = 28*28\n",
    "num_hidden = 1000\n",
    "num_outputs = 10\n",
    "\n",
    "# Temporal Dynamics\n",
    "num_steps = 30\n",
    "beta = 0.95"
   ]
  },
  {
   "cell_type": "code",
   "execution_count": 104,
   "metadata": {},
   "outputs": [],
   "source": [
    "# Define Network\n",
    "class Net(nn.Module):\n",
    "    def __init__(self):\n",
    "        super().__init__()\n",
    "        self.fc1 = nn.Linear(num_inputs, num_outputs, bias=False)\n",
    "        self.lif1 = snn.Leaky(beta=beta)\n",
    "    def forward(self, x):\n",
    "        mem1 = self.lif1.init_leaky()\n",
    "\n",
    "        spk1_rec = []\n",
    "        mem1_rec = []\n",
    "\n",
    "        for step in range(num_steps):\n",
    "            cur1 = self.fc1(x)\n",
    "            spk1, mem1 = self.lif1(cur1, mem1)\n",
    "            spk1_rec.append(spk1)\n",
    "            mem1_rec.append(mem1)\n",
    "\n",
    "        return torch.stack(spk1_rec, dim=0), torch.stack(mem1_rec, dim=0)\n",
    "        \n",
    "net = Net().to(device)"
   ]
  },
  {
   "cell_type": "code",
   "execution_count": 105,
   "metadata": {},
   "outputs": [],
   "source": [
    "state_dict = net.state_dict()"
   ]
  },
  {
   "cell_type": "code",
   "execution_count": 106,
   "metadata": {},
   "outputs": [],
   "source": [
    "loss = nn.CrossEntropyLoss()"
   ]
  },
  {
   "cell_type": "code",
   "execution_count": 107,
   "metadata": {},
   "outputs": [
    {
     "name": "stdout",
     "output_type": "stream",
     "text": [
      "torch.Size([8192, 1, 28, 28])\n"
     ]
    }
   ],
   "source": [
    "data, targets = next(iter(train_loader))\n",
    "data = data.to(device)\n",
    "targets = targets.to(device)\n",
    "\n",
    "spk_rec, mem_rec = net(data.view(batch_size, -1))\n",
    "print(data.size())"
   ]
  },
  {
   "cell_type": "code",
   "execution_count": 108,
   "metadata": {},
   "outputs": [],
   "source": [
    "def fitness_function(chromosome_input, parameter_input):\n",
    "    \n",
    "    state_dict = net.state_dict()\n",
    "    state_dict[parameter_input] = chromosome_input.clone().detach()\n",
    "    net.load_state_dict(state_dict)\n",
    "\n",
    "    '''data, targets = next(iter(train_loader))\n",
    "    data = data.to(device)\n",
    "    targets = targets.to(device)'''\n",
    "\n",
    "    spk_rec, mem_rec = net(data.view(batch_size, -1))\n",
    "\n",
    "    # initialize the total loss value\n",
    "    loss_val = torch.zeros((1), dtype=dtype, device=device)\n",
    "\n",
    "    # sum loss at every step\n",
    "    for step in range(num_steps):\n",
    "        loss_val += loss(mem_rec[step], targets)\n",
    "\n",
    "    training_loss = loss_val.item()\n",
    "\n",
    "    return training_loss"
   ]
  },
  {
   "cell_type": "code",
   "execution_count": 109,
   "metadata": {},
   "outputs": [
    {
     "data": {
      "text/plain": [
       "'def fitness_function(chromosome_input, parameter_input):\\n\\n    #print(chromosome)\\n    data, targets = next(iter(train_loader))\\n    data = data.to(device)\\n    targets = targets.to(device)\\n\\n    state_dict[parameter_input] = chromosome_input.clone().detach()\\n    #state_dict[parameter_hidden] = chromosome_hidden.clone().detach()\\n    net.load_state_dict(state_dict)\\n    \\n    output, _ = net(data.view(batch_size, -1))\\n    _, idx = output.sum(dim=0).max(1)\\n    acc = np.mean((targets == idx).detach().cpu().numpy())\\n\\n    return acc*100'"
      ]
     },
     "execution_count": 109,
     "metadata": {},
     "output_type": "execute_result"
    }
   ],
   "source": [
    "'''def fitness_function(chromosome_input, parameter_input):\n",
    "\n",
    "    #print(chromosome)\n",
    "    data, targets = next(iter(train_loader))\n",
    "    data = data.to(device)\n",
    "    targets = targets.to(device)\n",
    "\n",
    "    state_dict[parameter_input] = chromosome_input.clone().detach()\n",
    "    #state_dict[parameter_hidden] = chromosome_hidden.clone().detach()\n",
    "    net.load_state_dict(state_dict)\n",
    "    \n",
    "    output, _ = net(data.view(batch_size, -1))\n",
    "    _, idx = output.sum(dim=0).max(1)\n",
    "    acc = np.mean((targets == idx).detach().cpu().numpy())\n",
    "\n",
    "    return acc*100'''"
   ]
  },
  {
   "cell_type": "code",
   "execution_count": 110,
   "metadata": {},
   "outputs": [],
   "source": [
    "def crossover(population, row, column):\n",
    "\n",
    "    for i in range(2, int(population_number/2)+1, 2):        \n",
    "        children = torch.zeros(2,row,column, device=device)\n",
    "        crossover_col = torch.randint(0,column,(1,))\n",
    "\n",
    "        for n in range(2):\n",
    "            children[n,:,:crossover_col], children[n,:,crossover_col:] = population[i-2,:,:crossover_col], population[i-1,:,crossover_col:]\n",
    "\n",
    "        population = torch.cat((population,children))\n",
    "    return population"
   ]
  },
  {
   "cell_type": "code",
   "execution_count": 111,
   "metadata": {},
   "outputs": [
    {
     "data": {
      "text/plain": [
       "'def selection(population, row, column):\\n\\n    population_temp = population.clone().detach()\\n\\n    for i in range(int(population_number/4)):\\n        \\n        parents = torch.zeros(2, row, column, device=device)\\n        children = torch.zeros(2, row,column, device=device)\\n\\n        \\n\\n        for n in range(2):\\n            \\n            selection_length = population_temp.size()[0]\\n            parent_num = random.choice(range(selection_length))\\n            parents[n,:,:] = population_temp[parent_num,:,:]\\n            population_temp = torch.cat((population_temp[:parent_num], population_temp[parent_num+1:]))\\n\\n        for n in range(2):\\n            \\n            for row_count in range(row):\\n                    for column_count in range(column):\\n                        if random.random() < 1:\\n                            children[n, row_count, column_count] = parents[random.randint(0,1),row_count,column_count]\\n                        else:\\n                            children[n, row_count, column_count] = random.random()\\n        \\n        \\n        population = torch.cat((population,children))\\n    return population'"
      ]
     },
     "execution_count": 111,
     "metadata": {},
     "output_type": "execute_result"
    }
   ],
   "source": [
    "'''def selection(population, row, column):\n",
    "\n",
    "    population_temp = population.clone().detach()\n",
    "\n",
    "    for i in range(int(population_number/4)):\n",
    "        \n",
    "        parents = torch.zeros(2, row, column, device=device)\n",
    "        children = torch.zeros(2, row,column, device=device)\n",
    "\n",
    "        \n",
    "\n",
    "        for n in range(2):\n",
    "            \n",
    "            selection_length = population_temp.size()[0]\n",
    "            parent_num = random.choice(range(selection_length))\n",
    "            parents[n,:,:] = population_temp[parent_num,:,:]\n",
    "            population_temp = torch.cat((population_temp[:parent_num], population_temp[parent_num+1:]))\n",
    "\n",
    "        for n in range(2):\n",
    "            \n",
    "            for row_count in range(row):\n",
    "                    for column_count in range(column):\n",
    "                        if random.random() < 1:\n",
    "                            children[n, row_count, column_count] = parents[random.randint(0,1),row_count,column_count]\n",
    "                        else:\n",
    "                            children[n, row_count, column_count] = random.random()\n",
    "        \n",
    "        \n",
    "        population = torch.cat((population,children))\n",
    "    return population'''"
   ]
  },
  {
   "cell_type": "code",
   "execution_count": 112,
   "metadata": {},
   "outputs": [],
   "source": [
    "def mutation_backprop(input, hidden, mutation_prob, parameter_input, parameter_hidden, best_chromosomes, best_loss_index):\n",
    "\n",
    "    for i in range(population_number):\n",
    "\n",
    "        if not (random.random() < mutation_prob):\n",
    "            continue\n",
    "        state_dict = net.state_dict()\n",
    "        state_dict[parameter_input] = input[i,:,:].clone().detach()\n",
    "        state_dict[parameter_hidden] = hidden[i,:,:].clone().detach()\n",
    "        net.load_state_dict(state_dict)\n",
    "        \n",
    "        spk_rec, mem_rec = net(data.view(batch_size, -1))\n",
    "\n",
    "        # initialize the total loss value\n",
    "        loss_val = torch.zeros((1), dtype=dtype, device=device)\n",
    "\n",
    "        # sum loss at every step\n",
    "        for step in range(num_steps):\n",
    "            loss_val += loss(mem_rec[step], targets)\n",
    "\n",
    "        # clear previously stored gradients\n",
    "        optimizer.zero_grad()\n",
    "\n",
    "        # calculate the gradients\n",
    "        loss_val.backward()\n",
    "\n",
    "        # weight update\n",
    "        optimizer.step()\n",
    "\n",
    "        state_dict = net.state_dict()\n",
    "        \n",
    "        input[i,:,:] = state_dict[parameter_input]\n",
    "        hidden[i,:,:] = state_dict[parameter_hidden]\n",
    "    \n",
    "    return input, hidden \n"
   ]
  },
  {
   "cell_type": "code",
   "execution_count": 113,
   "metadata": {},
   "outputs": [],
   "source": [
    "def mutation(population, best_chromosome, population_number, row, column, best_prob):\n",
    "    mutation_prob = 1\n",
    "    for i in range(0, int(population_number)):\n",
    "        if random.random() < best_prob:\n",
    "            for row_count in range(row):\n",
    "                for column_count in range(column):\n",
    "                    if random.random() < 0.0003:\n",
    "                        if random.random() < 0.5:\n",
    "                            population[i, row_count, column_count] += random.random()*0.5\n",
    "                        else:\n",
    "                            population[i, row_count, column_count] -= random.random()*0.5\n",
    "        else:\n",
    "            population[i,:,:] = best_chromosome[:,:]\n",
    "    return population\n"
   ]
  },
  {
   "cell_type": "code",
   "execution_count": 114,
   "metadata": {},
   "outputs": [],
   "source": [
    "def evolve(input, population_number, parameter_input):\n",
    "\n",
    "    input_row = input.size()[1]\n",
    "    input_column = input.size()[2]\n",
    "\n",
    "    test_accuracy_hist= []\n",
    "    loss_hist = []\n",
    "\n",
    "    solution_input = torch.zeros(generation_goal, input_row, input_column, device=device)\n",
    "    best_acc = 99999\n",
    "    best_loss_index = 0\n",
    "    best_prob = .98\n",
    "\n",
    "    for evolution_number in range(generation_goal):\n",
    "        \n",
    "        best_acc_gen = 99999\n",
    "        accuracy_generation_list = torch.full((2,int(population_number/2)), 99999)\n",
    "        temp_input = torch.zeros(int(population_number/2), input_row, input_column, device=device)\n",
    "\n",
    "        for chromosome_number in range(population_number):\n",
    "\n",
    "            accuracy = fitness_function(input[chromosome_number,:,:], parameter_input)\n",
    "                  \n",
    "            if accuracy < best_acc:\n",
    "                best_acc = accuracy\n",
    "                best_loss_index = evolution_number\n",
    "\n",
    "            if accuracy < best_acc_gen:\n",
    "                best_acc_gen = accuracy\n",
    "                solution_input[evolution_number,:,:] = input[chromosome_number,:,:].detach().clone()\n",
    "                \n",
    "            highest_loss_index = torch.max(accuracy_generation_list, 1)         \n",
    "            \n",
    "            if (accuracy) < highest_loss_index[0][1]:\n",
    "\n",
    "                indice = int(highest_loss_index[1][1])\n",
    "                accuracy_generation_list[0][indice] = chromosome_number\n",
    "                accuracy_generation_list[1][indice] = accuracy\n",
    "\n",
    "        temp_input = torch.zeros((int(population_number/2), input_row, input_column), device=device)\n",
    "\n",
    "        loss_hist.append(best_acc)\n",
    "        \n",
    "        try:\n",
    "            if best_acc_gen > loss_hist[evolution_number - 1]:\n",
    "                best_prob = .9\n",
    "        except:\n",
    "            pass\n",
    "\n",
    "        for n in range(int(population_number/2)):\n",
    "            index = torch.min(accuracy_generation_list,1)\n",
    "            temp_input[n,:,:] = input[index[1][1],:,:]\n",
    "            accuracy_generation_list[1][index[1][1]] = 99999\n",
    "        \n",
    "        if (evolution_number % 500) == 0:\n",
    "            state_dict = net.state_dict()\n",
    "            state_dict[parameter_input] = solution_input[best_loss_index, :, :]\n",
    "            net.load_state_dict(state_dict)\n",
    "            accuracy_test = test_acc()\n",
    "            test_accuracy_hist.append(accuracy_test)\n",
    "\n",
    "            print(f\"\"\"\n",
    "            Generation:         {evolution_number}/{generation_goal}\n",
    "            Training loss:      {best_acc:.2f}\n",
    "            Test accuracy:      {accuracy_test:.2f}%\\n\"\"\"\n",
    "            )\n",
    "\n",
    "            data, targets = next(iter(train_loader))\n",
    "            data = data.to(device)\n",
    "            targets = targets.to(device)\n",
    "\n",
    "            best_acc = 99999          \n",
    "\n",
    "        temp_input = crossover(temp_input, input_row, input_column)\n",
    "        temp_input = mutation(temp_input, solution_input[best_loss_index,:,:], population_number, input_row, input_column, best_prob)\n",
    "\n",
    "        input = temp_input.detach().clone()\n",
    "\n",
    "           \n",
    "\n",
    "    state_dict = net.state_dict()\n",
    "    state_dict[parameter_input] = solution_input[generation_goal-1].detach().clone()\n",
    "    net.load_state_dict(state_dict)\n",
    "    \n",
    "    return solution_input, loss_hist \n",
    "            "
   ]
  },
  {
   "cell_type": "code",
   "execution_count": 115,
   "metadata": {},
   "outputs": [],
   "source": [
    "def test_acc():\n",
    "  total = 0\n",
    "  correct = 0\n",
    "\n",
    "  test_loader = DataLoader(mnist_test, batch_size=batch_size, shuffle=True, drop_last=False)\n",
    "\n",
    "  with torch.no_grad():\n",
    "    net.eval()\n",
    "    for data, targets in test_loader:\n",
    "      data = data.to(device)\n",
    "      targets = targets.to(device)\n",
    "      \n",
    "      # forward pass\n",
    "      test_spk, _ = net(data.view(data.size(0), -1))\n",
    "\n",
    "      # calculate total accuracy\n",
    "      _, predicted = test_spk.sum(dim=0).max(1)\n",
    "      total += targets.size(0)\n",
    "      correct += (predicted == targets).sum().item()\n",
    "\n",
    "  \n",
    "  return (100 * correct / total)"
   ]
  },
  {
   "cell_type": "code",
   "execution_count": 116,
   "metadata": {},
   "outputs": [],
   "source": [
    "population_number = 8\n",
    "generation_goal = 10000\n",
    "mutation_prob = 0.1"
   ]
  },
  {
   "cell_type": "code",
   "execution_count": 117,
   "metadata": {},
   "outputs": [
    {
     "name": "stdout",
     "output_type": "stream",
     "text": [
      "\n",
      "            Generation:         0/10000\n",
      "            Training loss:      71.78\n",
      "            Test accuracy:      11.70%\n",
      "\n",
      "\n",
      "            Generation:         500/10000\n",
      "            Training loss:      48.84\n",
      "            Test accuracy:      46.99%\n",
      "\n",
      "\n",
      "            Generation:         1000/10000\n",
      "            Training loss:      43.07\n",
      "            Test accuracy:      56.04%\n",
      "\n",
      "\n",
      "            Generation:         1500/10000\n",
      "            Training loss:      35.98\n",
      "            Test accuracy:      66.33%\n",
      "\n",
      "\n",
      "            Generation:         2000/10000\n",
      "            Training loss:      32.44\n",
      "            Test accuracy:      69.13%\n",
      "\n",
      "\n",
      "            Generation:         2500/10000\n",
      "            Training loss:      29.93\n",
      "            Test accuracy:      72.17%\n",
      "\n",
      "\n",
      "            Generation:         3000/10000\n",
      "            Training loss:      28.13\n",
      "            Test accuracy:      74.23%\n",
      "\n",
      "\n",
      "            Generation:         3500/10000\n",
      "            Training loss:      26.46\n",
      "            Test accuracy:      76.03%\n",
      "\n",
      "\n",
      "            Generation:         4000/10000\n",
      "            Training loss:      25.05\n",
      "            Test accuracy:      77.77%\n",
      "\n",
      "\n",
      "            Generation:         4500/10000\n",
      "            Training loss:      23.80\n",
      "            Test accuracy:      79.07%\n",
      "\n",
      "\n",
      "            Generation:         5000/10000\n",
      "            Training loss:      22.87\n",
      "            Test accuracy:      78.73%\n",
      "\n",
      "\n",
      "            Generation:         5500/10000\n",
      "            Training loss:      22.28\n",
      "            Test accuracy:      78.94%\n",
      "\n",
      "\n",
      "            Generation:         6000/10000\n",
      "            Training loss:      22.25\n",
      "            Test accuracy:      80.08%\n",
      "\n",
      "\n",
      "            Generation:         6500/10000\n",
      "            Training loss:      21.52\n",
      "            Test accuracy:      80.61%\n",
      "\n",
      "\n",
      "            Generation:         7000/10000\n",
      "            Training loss:      20.83\n",
      "            Test accuracy:      80.57%\n",
      "\n",
      "\n",
      "            Generation:         7500/10000\n",
      "            Training loss:      20.37\n",
      "            Test accuracy:      80.93%\n",
      "\n",
      "\n",
      "            Generation:         8000/10000\n",
      "            Training loss:      19.87\n",
      "            Test accuracy:      81.64%\n",
      "\n",
      "\n",
      "            Generation:         8500/10000\n",
      "            Training loss:      19.45\n",
      "            Test accuracy:      81.60%\n",
      "\n",
      "\n",
      "            Generation:         9000/10000\n",
      "            Training loss:      19.06\n",
      "            Test accuracy:      81.98%\n",
      "\n",
      "\n",
      "            Generation:         9500/10000\n",
      "            Training loss:      18.62\n",
      "            Test accuracy:      82.03%\n",
      "\n"
     ]
    },
    {
     "data": {
      "text/plain": [
       "81.94"
      ]
     },
     "execution_count": 117,
     "metadata": {},
     "output_type": "execute_result"
    }
   ],
   "source": [
    "with torch.no_grad():\n",
    "    net.eval()\n",
    "\n",
    "    fc1w = torch.randn(population_number, num_outputs, num_inputs, device=device)\n",
    "    mul = torch.tensor([0.01], device=device)\n",
    "    fc1w = torch.multiply(fc1w, mul)\n",
    "\n",
    "    input, loss_hist = evolve(fc1w, population_number, 'fc1.weight')\n",
    "\n",
    "test_acc()"
   ]
  },
  {
   "cell_type": "code",
   "execution_count": 118,
   "metadata": {},
   "outputs": [
    {
     "data": {
      "image/png": "[encoded data removed]",
      "text/plain": [
       "<Figure size 1000x500 with 1 Axes>"
      ]
     },
     "metadata": {},
     "output_type": "display_data"
    }
   ],
   "source": [
    "fig = plt.figure(facecolor=\"w\", figsize=(10, 5))\n",
    "plt.plot(loss_hist)\n",
    "plt.title(\"Loss Curves\")\n",
    "plt.legend([\"Train Loss\"])\n",
    "plt.xlabel(\"Iteration\")\n",
    "plt.ylabel(\"Loss\")\n",
    "plt.show()"
   ]
  }
 ],
 "metadata": {
  "kernelspec": {
   "display_name": "Python 3.10.8 ('.snn': venv)",
   "language": "python",
   "name": "python3"
  },
  "language_info": {
   "codemirror_mode": {
    "name": "ipython",
    "version": 3
   },
   "file_extension": ".py",
   "mimetype": "text/x-python",
   "name": "python",
   "nbconvert_exporter": "python",
   "pygments_lexer": "ipython3",
   "version": "3.10.8"
  },
  "orig_nbformat": 4,
  "vscode": {
   "interpreter": {
    "hash": "606a12c767200eb5eaada5090c693c32d0ef23b6c09e10a8c668788181180b8e"
   }
  }
 },
 "nbformat": 4,
 "nbformat_minor": 2
}
